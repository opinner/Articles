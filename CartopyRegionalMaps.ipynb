{
  "cells": [
    {
      "cell_type": "markdown",
      "metadata": {
        "id": "view-in-github",
        "colab_type": "text"
      },
      "source": [
        "<a href=\"https://colab.research.google.com/github/opinner/Articles/blob/main/CartopyRegionalMaps.ipynb\" target=\"_parent\"><img src=\"https://colab.research.google.com/assets/colab-badge.svg\" alt=\"Open In Colab\"/></a>"
      ]
    },
    {
      "cell_type": "markdown",
      "source": [
        "# Beginning Remarks\n",
        "Although *Introduction to Cartopy* contains many examples of regional maps, we polar oceanographers are usually interested in the high latitudes, which makes the correct choice of map projection and map extent much more important.\n",
        "\n",
        "This is aimed to be a example gallery of (hopefully ready to be used) maps of regions, that are most often needed in our section. "
      ],
      "metadata": {
        "id": "JcshYymz5p-x"
      }
    },
    {
      "cell_type": "markdown",
      "metadata": {
        "id": "m7n_tmRH4CPc"
      },
      "source": [
        "---\n",
        "\n",
        "### <font color='red'> Only run the following cell if you are on Google Colab</font>\n",
        "### Install necessary packages"
      ]
    },
    {
      "cell_type": "code",
      "execution_count": null,
      "metadata": {
        "colab": {
          "base_uri": "https://localhost:8080/"
        },
        "id": "Msacy3dN3LB1",
        "outputId": "76ad9ad1-f2c7-4289-d6e0-db4f952f0472"
      },
      "outputs": [
        {
          "name": "stdout",
          "output_type": "stream",
          "text": [
            "Reading package lists... Done\n",
            "Building dependency tree       \n",
            "Reading state information... Done\n",
            "libproj-dev is already the newest version (7.2.1-1~focal0).\n",
            "libproj-dev set to manually installed.\n",
            "proj-data is already the newest version (7.2.1-1~focal0).\n",
            "proj-data set to manually installed.\n",
            "The following NEW packages will be installed:\n",
            "  proj-bin\n",
            "0 upgraded, 1 newly installed, 0 to remove and 24 not upgraded.\n",
            "Need to get 170 kB of archives.\n",
            "After this operation, 485 kB of additional disk space will be used.\n",
            "Get:1 http://ppa.launchpad.net/ubuntugis/ppa/ubuntu focal/main amd64 proj-bin amd64 7.2.1-1~focal0 [170 kB]\n",
            "Fetched 170 kB in 0s (410 kB/s)\n",
            "Selecting previously unselected package proj-bin.\n",
            "(Reading database ... 122519 files and directories currently installed.)\n",
            "Preparing to unpack .../proj-bin_7.2.1-1~focal0_amd64.deb ...\n",
            "Unpacking proj-bin (7.2.1-1~focal0) ...\n",
            "Setting up proj-bin (7.2.1-1~focal0) ...\n",
            "Processing triggers for man-db (2.9.1-1) ...\n",
            "Reading package lists... Done\n",
            "Building dependency tree       \n",
            "Reading state information... Done\n",
            "libgeos-dev is already the newest version (3.9.1-1~focal0).\n",
            "libgeos-dev set to manually installed.\n",
            "0 upgraded, 0 newly installed, 0 to remove and 24 not upgraded.\n",
            "Looking in indexes: https://pypi.org/simple, https://us-python.pkg.dev/colab-wheels/public/simple/\n",
            "Requirement already satisfied: cython in /usr/local/lib/python3.10/dist-packages (0.29.34)\n"
          ]
        }
      ],
      "source": [
        "!apt-get install libproj-dev proj-data proj-bin\n",
        "!apt-get install libgeos-dev\n",
        "!pip install cython\n",
        "!pip install cartopy\n",
        "\n",
        "!apt-get -qq install python-cartopy python3-cartopy\n",
        "!pip uninstall -y shapely    # cartopy and shapely aren't friends (early 2020)\n",
        "!pip install shapely --no-binary shapely"
      ]
    },
    {
      "cell_type": "markdown",
      "source": [
        "## Starting from here this notebook is (mostly) independent of its enviroment. Exceptions are marked in red"
      ],
      "metadata": {
        "id": "fZkcEsaLmG7e"
      }
    },
    {
      "cell_type": "code",
      "execution_count": null,
      "metadata": {
        "colab": {
          "background_save": true
        },
        "id": "2l1yRhAiES31"
      },
      "outputs": [],
      "source": [
        "%matplotlib inline\n",
        "import matplotlib.pyplot as plt\n",
        "from matplotlib import cm\n",
        "\n",
        "import numpy as np\n",
        "\n",
        "import cartopy\n",
        "import cartopy.crs as ccrs                   # for projections\n",
        "import cartopy.feature as cfeature           # for features\n",
        "import cartopy.io.shapereader as shapereader\n",
        "from cartopy.mpl.ticker import LongitudeFormatter, LatitudeFormatter"
      ]
    },
    {
      "cell_type": "code",
      "execution_count": null,
      "metadata": {
        "colab": {
          "background_save": true
        },
        "id": "NYuo6f9VEV6h",
        "outputId": "0abb8966-02f2-4d39-c5e4-bce3ad063cad"
      },
      "outputs": [
        {
          "name": "stdout",
          "output_type": "stream",
          "text": [
            "0.21.1\n"
          ]
        }
      ],
      "source": [
        "print(cartopy.__version__)"
      ]
    },
    {
      "cell_type": "markdown",
      "source": [
        "# Circumpolar Map"
      ],
      "metadata": {
        "id": "sdHUx5nAmXi2"
      }
    },
    {
      "cell_type": "markdown",
      "source": [
        "# Weddell Sea"
      ],
      "metadata": {
        "id": "Scczqm0RmaDR"
      }
    },
    {
      "cell_type": "code",
      "execution_count": 2,
      "metadata": {
        "colab": {
          "base_uri": "https://localhost:8080/",
          "height": 241
        },
        "id": "eL461Gaq5HwA",
        "outputId": "be3d8d0a-d136-4f78-8fd8-55abb970343c"
      },
      "outputs": [
        {
          "output_type": "error",
          "ename": "NameError",
          "evalue": "ignored",
          "traceback": [
            "\u001b[0;31m---------------------------------------------------------------------------\u001b[0m",
            "\u001b[0;31mNameError\u001b[0m                                 Traceback (most recent call last)",
            "\u001b[0;32m<ipython-input-2-e679c88dc856>\u001b[0m in \u001b[0;36m<cell line: 2>\u001b[0;34m()\u001b[0m\n\u001b[1;32m      1\u001b[0m \u001b[0;31m# Create a map using the Antarctic Polar Stereographic projection\u001b[0m\u001b[0;34m\u001b[0m\u001b[0;34m\u001b[0m\u001b[0m\n\u001b[0;32m----> 2\u001b[0;31m \u001b[0mfig\u001b[0m \u001b[0;34m=\u001b[0m \u001b[0mplt\u001b[0m\u001b[0;34m.\u001b[0m\u001b[0mfigure\u001b[0m\u001b[0;34m(\u001b[0m\u001b[0mfigsize\u001b[0m\u001b[0;34m=\u001b[0m\u001b[0;34m(\u001b[0m\u001b[0;36m10\u001b[0m\u001b[0;34m,\u001b[0m \u001b[0;36m8\u001b[0m\u001b[0;34m)\u001b[0m\u001b[0;34m)\u001b[0m\u001b[0;34m\u001b[0m\u001b[0;34m\u001b[0m\u001b[0m\n\u001b[0m\u001b[1;32m      3\u001b[0m \u001b[0max\u001b[0m \u001b[0;34m=\u001b[0m \u001b[0mfig\u001b[0m\u001b[0;34m.\u001b[0m\u001b[0madd_subplot\u001b[0m\u001b[0;34m(\u001b[0m\u001b[0;36m1\u001b[0m\u001b[0;34m,\u001b[0m \u001b[0;36m1\u001b[0m\u001b[0;34m,\u001b[0m \u001b[0;36m1\u001b[0m\u001b[0;34m,\u001b[0m \u001b[0mprojection\u001b[0m\u001b[0;34m=\u001b[0m\u001b[0mccrs\u001b[0m\u001b[0;34m.\u001b[0m\u001b[0mSouthPolarStereo\u001b[0m\u001b[0;34m(\u001b[0m\u001b[0;34m)\u001b[0m\u001b[0;34m)\u001b[0m\u001b[0;34m\u001b[0m\u001b[0;34m\u001b[0m\u001b[0m\n\u001b[1;32m      4\u001b[0m \u001b[0;34m\u001b[0m\u001b[0m\n\u001b[1;32m      5\u001b[0m \u001b[0;31m# Set the extent of the map to the Weddell Sea region\u001b[0m\u001b[0;34m\u001b[0m\u001b[0;34m\u001b[0m\u001b[0m\n",
            "\u001b[0;31mNameError\u001b[0m: name 'plt' is not defined"
          ]
        }
      ],
      "source": [
        "# Create a map using the Antarctic Polar Stereographic projection\n",
        "fig = plt.figure(figsize=(10, 8))\n",
        "ax = fig.add_subplot(1, 1, 1, projection=ccrs.SouthPolarStereo())\n",
        "\n",
        "# Set the extent of the map to the Weddell Sea region\n",
        "extent = [-90, -10, -80, -60]  # [lon_min, lon_max, lat_min, lat_max]\n",
        "ax.set_extent(extent, ccrs.PlateCarree())\n",
        "\n",
        "# Add coastlines and gridlines\n",
        "ax.coastlines(resolution='10m', color='black', linewidth=0.5)\n",
        "ax.gridlines(draw_labels=True, linewidth=0.5, color='gray', alpha=0.5, linestyle='--')\n",
        "\n",
        "# Add a title\n",
        "ax.set_title('Weddell Sea Map');"
      ]
    }
  ],
  "metadata": {
    "colab": {
      "provenance": [],
      "authorship_tag": "ABX9TyPnVm9PWGIK/VE9zD2OsGIw",
      "include_colab_link": true
    },
    "kernelspec": {
      "display_name": "Python 3",
      "name": "python3"
    },
    "language_info": {
      "name": "python"
    }
  },
  "nbformat": 4,
  "nbformat_minor": 0
}