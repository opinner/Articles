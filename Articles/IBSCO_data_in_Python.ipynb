{
  "cells": [
    {
      "cell_type": "markdown",
      "metadata": {
        "id": "view-in-github",
        "colab_type": "text"
      },
      "source": [
        "<a href=\"https://colab.research.google.com/github/opinner/Articles/blob/main/Articles/IBSCO_data_in_Python.ipynb\" target=\"_parent\"><img src=\"https://colab.research.google.com/assets/colab-badge.svg\" alt=\"Open In Colab\"/></a>"
      ]
    },
    {
      "cell_type": "markdown",
      "metadata": {
        "id": "V3IrGzPGWXWQ"
      },
      "source": [
        "Run this notebook in [Google Colab](https://colab.research.google.com/drive/1FM_jlqs4E_h2hbBNaNV2sgH1F1A0GC0j?usp=sharing) or view it on [my personal GitHub page](https://github.com/opinner/Articles/blob/main/Articles/IBSCO_data_in_Python.ipynb)."
      ]
    },
    {
      "cell_type": "code",
      "execution_count": null,
      "metadata": {
        "colab": {
          "base_uri": "https://localhost:8080/"
        },
        "id": "14JUdRajWfx3",
        "outputId": "33169285-4b6d-4377-f7d7-21d316ce91db"
      },
      "outputs": [
        {
          "name": "stdout",
          "output_type": "stream",
          "text": [
            "Requirement already satisfied: rioxarray in /usr/local/lib/python3.10/dist-packages (0.16.0)\n",
            "Requirement already satisfied: packaging in /usr/local/lib/python3.10/dist-packages (from rioxarray) (24.1)\n",
            "Requirement already satisfied: rasterio>=1.3 in /usr/local/lib/python3.10/dist-packages (from rioxarray) (1.3.10)\n",
            "Requirement already satisfied: xarray>=2022.3.0 in /usr/local/lib/python3.10/dist-packages (from rioxarray) (2023.7.0)\n",
            "Requirement already satisfied: pyproj>=3.3 in /usr/local/lib/python3.10/dist-packages (from rioxarray) (3.6.1)\n",
            "Requirement already satisfied: numpy>=1.23 in /usr/local/lib/python3.10/dist-packages (from rioxarray) (1.25.2)\n",
            "Requirement already satisfied: certifi in /usr/local/lib/python3.10/dist-packages (from pyproj>=3.3->rioxarray) (2024.6.2)\n",
            "Requirement already satisfied: affine in /usr/local/lib/python3.10/dist-packages (from rasterio>=1.3->rioxarray) (2.4.0)\n",
            "Requirement already satisfied: attrs in /usr/local/lib/python3.10/dist-packages (from rasterio>=1.3->rioxarray) (23.2.0)\n",
            "Requirement already satisfied: click>=4.0 in /usr/local/lib/python3.10/dist-packages (from rasterio>=1.3->rioxarray) (8.1.7)\n",
            "Requirement already satisfied: cligj>=0.5 in /usr/local/lib/python3.10/dist-packages (from rasterio>=1.3->rioxarray) (0.7.2)\n",
            "Requirement already satisfied: snuggs>=1.4.1 in /usr/local/lib/python3.10/dist-packages (from rasterio>=1.3->rioxarray) (1.4.7)\n",
            "Requirement already satisfied: click-plugins in /usr/local/lib/python3.10/dist-packages (from rasterio>=1.3->rioxarray) (1.1.1)\n",
            "Requirement already satisfied: setuptools in /usr/local/lib/python3.10/dist-packages (from rasterio>=1.3->rioxarray) (67.7.2)\n",
            "Requirement already satisfied: pandas>=1.4 in /usr/local/lib/python3.10/dist-packages (from xarray>=2022.3.0->rioxarray) (2.0.3)\n",
            "Requirement already satisfied: python-dateutil>=2.8.2 in /usr/local/lib/python3.10/dist-packages (from pandas>=1.4->xarray>=2022.3.0->rioxarray) (2.8.2)\n",
            "Requirement already satisfied: pytz>=2020.1 in /usr/local/lib/python3.10/dist-packages (from pandas>=1.4->xarray>=2022.3.0->rioxarray) (2023.4)\n",
            "Requirement already satisfied: tzdata>=2022.1 in /usr/local/lib/python3.10/dist-packages (from pandas>=1.4->xarray>=2022.3.0->rioxarray) (2024.1)\n",
            "Requirement already satisfied: pyparsing>=2.1.6 in /usr/local/lib/python3.10/dist-packages (from snuggs>=1.4.1->rasterio>=1.3->rioxarray) (3.1.2)\n",
            "Requirement already satisfied: six>=1.5 in /usr/local/lib/python3.10/dist-packages (from python-dateutil>=2.8.2->pandas>=1.4->xarray>=2022.3.0->rioxarray) (1.16.0)\n",
            "Requirement already satisfied: cmocean in /usr/local/lib/python3.10/dist-packages (4.0.3)\n",
            "Requirement already satisfied: matplotlib in /usr/local/lib/python3.10/dist-packages (from cmocean) (3.7.1)\n",
            "Requirement already satisfied: numpy in /usr/local/lib/python3.10/dist-packages (from cmocean) (1.25.2)\n",
            "Requirement already satisfied: packaging in /usr/local/lib/python3.10/dist-packages (from cmocean) (24.1)\n",
            "Requirement already satisfied: contourpy>=1.0.1 in /usr/local/lib/python3.10/dist-packages (from matplotlib->cmocean) (1.2.1)\n",
            "Requirement already satisfied: cycler>=0.10 in /usr/local/lib/python3.10/dist-packages (from matplotlib->cmocean) (0.12.1)\n",
            "Requirement already satisfied: fonttools>=4.22.0 in /usr/local/lib/python3.10/dist-packages (from matplotlib->cmocean) (4.53.0)\n",
            "Requirement already satisfied: kiwisolver>=1.0.1 in /usr/local/lib/python3.10/dist-packages (from matplotlib->cmocean) (1.4.5)\n",
            "Requirement already satisfied: pillow>=6.2.0 in /usr/local/lib/python3.10/dist-packages (from matplotlib->cmocean) (9.4.0)\n",
            "Requirement already satisfied: pyparsing>=2.3.1 in /usr/local/lib/python3.10/dist-packages (from matplotlib->cmocean) (3.1.2)\n",
            "Requirement already satisfied: python-dateutil>=2.7 in /usr/local/lib/python3.10/dist-packages (from matplotlib->cmocean) (2.8.2)\n",
            "Requirement already satisfied: six>=1.5 in /usr/local/lib/python3.10/dist-packages (from python-dateutil>=2.7->matplotlib->cmocean) (1.16.0)\n",
            "Requirement already satisfied: cartopy in /usr/local/lib/python3.10/dist-packages (0.23.0)\n",
            "Requirement already satisfied: numpy>=1.21 in /usr/local/lib/python3.10/dist-packages (from cartopy) (1.25.2)\n",
            "Requirement already satisfied: matplotlib>=3.5 in /usr/local/lib/python3.10/dist-packages (from cartopy) (3.7.1)\n",
            "Requirement already satisfied: shapely>=1.7 in /usr/local/lib/python3.10/dist-packages (from cartopy) (2.0.4)\n",
            "Requirement already satisfied: packaging>=20 in /usr/local/lib/python3.10/dist-packages (from cartopy) (24.1)\n",
            "Requirement already satisfied: pyshp>=2.3 in /usr/local/lib/python3.10/dist-packages (from cartopy) (2.3.1)\n",
            "Requirement already satisfied: pyproj>=3.3.1 in /usr/local/lib/python3.10/dist-packages (from cartopy) (3.6.1)\n",
            "Requirement already satisfied: contourpy>=1.0.1 in /usr/local/lib/python3.10/dist-packages (from matplotlib>=3.5->cartopy) (1.2.1)\n",
            "Requirement already satisfied: cycler>=0.10 in /usr/local/lib/python3.10/dist-packages (from matplotlib>=3.5->cartopy) (0.12.1)\n",
            "Requirement already satisfied: fonttools>=4.22.0 in /usr/local/lib/python3.10/dist-packages (from matplotlib>=3.5->cartopy) (4.53.0)\n",
            "Requirement already satisfied: kiwisolver>=1.0.1 in /usr/local/lib/python3.10/dist-packages (from matplotlib>=3.5->cartopy) (1.4.5)\n",
            "Requirement already satisfied: pillow>=6.2.0 in /usr/local/lib/python3.10/dist-packages (from matplotlib>=3.5->cartopy) (9.4.0)\n",
            "Requirement already satisfied: pyparsing>=2.3.1 in /usr/local/lib/python3.10/dist-packages (from matplotlib>=3.5->cartopy) (3.1.2)\n",
            "Requirement already satisfied: python-dateutil>=2.7 in /usr/local/lib/python3.10/dist-packages (from matplotlib>=3.5->cartopy) (2.8.2)\n",
            "Requirement already satisfied: certifi in /usr/local/lib/python3.10/dist-packages (from pyproj>=3.3.1->cartopy) (2024.6.2)\n",
            "Requirement already satisfied: six>=1.5 in /usr/local/lib/python3.10/dist-packages (from python-dateutil>=2.7->matplotlib>=3.5->cartopy) (1.16.0)\n"
          ]
        }
      ],
      "source": [
        "# Install missing packages in google colab, if you want to run the code online\n",
        "!pip install rioxarray\n",
        "!pip install cmocean\n",
        "!pip install cartopy"
      ]
    },
    {
      "cell_type": "code",
      "execution_count": null,
      "metadata": {
        "id": "CJBTFfJ-yls0"
      },
      "outputs": [],
      "source": [
        "import rioxarray\n",
        "import cartopy.crs as ccrs\n",
        "import numpy as np\n",
        "import matplotlib.pyplot as plt\n",
        "import matplotlib.colors as mcolors\n",
        "import matplotlib.path as mpath\n",
        "import cmocean as cm"
      ]
    },
    {
      "cell_type": "code",
      "execution_count": null,
      "metadata": {
        "colab": {
          "base_uri": "https://localhost:8080/"
        },
        "id": "aHk6q-zNA6CJ",
        "outputId": "facdb57c-b8ee-4477-8857-febe23659001"
      },
      "outputs": [
        {
          "name": "stdout",
          "output_type": "stream",
          "text": [
            "--2024-07-10 13:08:18--  https://download.pangaea.de/dataset/937574/files/IBCSO_v2_ice-surface_WGS84.tif\n",
            "Resolving download.pangaea.de (download.pangaea.de)... 134.1.2.172\n",
            "Connecting to download.pangaea.de (download.pangaea.de)|134.1.2.172|:443... connected.\n",
            "HTTP request sent, awaiting response... 200 OK\n",
            "Length: 57162667 (55M) [image/tiff]\n",
            "Saving to: ‘IBCSO_v2_ice-surface_WGS84.tif.2’\n",
            "\n",
            "IBCSO_v2_ice-surfac 100%[===================>]  54.51M  16.0MB/s    in 4.3s    \n",
            "\n",
            "2024-07-10 13:08:23 (12.6 MB/s) - ‘IBCSO_v2_ice-surface_WGS84.tif.2’ saved [57162667/57162667]\n",
            "\n"
          ]
        }
      ],
      "source": [
        "# dowload IBSCO data from pangea\n",
        "!wget https://download.pangaea.de/dataset/937574/files/IBCSO_v2_ice-surface_WGS84.tif"
      ]
    },
    {
      "cell_type": "code",
      "execution_count": null,
      "metadata": {
        "colab": {
          "base_uri": "https://localhost:8080/"
        },
        "id": "KaStlrLJGvGG",
        "outputId": "cc9c450d-cd6d-444b-9072-716ee7bd311c"
      },
      "outputs": [
        {
          "name": "stdout",
          "output_type": "stream",
          "text": [
            "IBCSO_v2_ice-surface_WGS84.tif\t  IBCSO_v2_ice-surface_WGS84.tif.2  sample_data\n",
            "IBCSO_v2_ice-surface_WGS84.tif.1  map.png\n"
          ]
        }
      ],
      "source": [
        "# check if data is now in local files\n",
        "! ls"
      ]
    },
    {
      "cell_type": "code",
      "execution_count": null,
      "metadata": {
        "id": "YyWfkoBeHDK6"
      },
      "outputs": [],
      "source": [
        "# Open the raster data\n",
        "input_file = './IBCSO_v2_ice-surface_WGS84.tif'\n",
        "ibsco_data = rioxarray.open_rasterio(input_file)\n",
        "\n",
        "# Define the bounds in lat, lon coordinates for the subset\n",
        "min_lon = -65\n",
        "max_lon = -15\n",
        "min_lat = -80\n",
        "max_lat = -60\n",
        "\n",
        "# Clip the data using the defined bounds\n",
        "subset = ibsco_data.rio.clip_box(minx=min_lon, miny=min_lat, maxx=max_lon, maxy=max_lat)\n",
        "#these values are really close to but not exactly the same as manually defined bounds\n",
        "left, bottom, right, top = subset.rio.bounds()\n",
        "subset_data = subset[0, :, :] # select the one (and only) band in the tif file"
      ]
    },
    {
      "cell_type": "code",
      "execution_count": null,
      "metadata": {
        "id": "PlUMEX0hWyMs"
      },
      "outputs": [],
      "source": [
        "def setup_curved_map_shape():\n",
        "    \"\"\"\n",
        "    Sets up a high-resolution South Polar Stereographic projection map with specified latitude and longitude extents.\n",
        "\n",
        "    This function creates a plot with a South Polar Stereographic projection. It defines the projection, sets the extent\n",
        "    of the map, and adjusts the boundary of the map to fit within the specified latitude and longitude limits. The resolution\n",
        "    for computing great circles is increased for finer details. Because I was lazy, this docstring was written by ChatGPT.\n",
        "\n",
        "    Returns:\n",
        "        tuple: A tuple containing the figure and axis objects (fig, ax) for the created map.\n",
        "\n",
        "    Example:\n",
        "        fig, ax = setup_curved_map_shape()\n",
        "        ax.coastlines()\n",
        "        plt.show()\n",
        "    \"\"\"\n",
        "    # Create the plot with a South Polar Stereographic projection\n",
        "    # Define the projection for a high-resolution South Polar Stereographic map\n",
        "    central_longitude = np.round(np.mean([min_lon, max_lon]), -1)\n",
        "    projection = ccrs.SouthPolarStereo(central_longitude=central_longitude)\n",
        "\n",
        "    # Increase the resolution in the computation of great circles\n",
        "    # see https://stackoverflow.com/questions/60685245/plot-fine-grained-geodesic-with-cartopy/60724892#comment137539434_60724892\n",
        "    # if we later run ax.set_boundary() this causes the boundary to be smooth without unwanted corners.\n",
        "    projection.threshold = 1e3\n",
        "\n",
        "    fig, ax = plt.subplots(1, 1, subplot_kw=dict(projection=projection))\n",
        "    ax.set_extent([min_lon, max_lon, min_lat, max_lat], crs=ccrs.PlateCarree())\n",
        "\n",
        "    # Define the limits for the x-axis and y-axis of the map\n",
        "    xlim = [min_lon, max_lon]  # longitude\n",
        "    ylim = [min_lat, max_lat]  # latitude\n",
        "\n",
        "    # Define a rectangular path for the map extent using matplotlib's Path object\n",
        "    rect = mpath.Path([[xlim[0], ylim[0]], [xlim[1], ylim[0]], [xlim[1], ylim[1]], [xlim[0], ylim[1]], [xlim[0], ylim[0]]])\n",
        "\n",
        "    # Transform the rectangular path to the data coordinate system\n",
        "    proj_to_data = ccrs.PlateCarree()._as_mpl_transform(ax) - ax.transData\n",
        "    rect_in_target = proj_to_data.transform_path(rect)\n",
        "\n",
        "    # Set the boundary of the map using the transformed rectangular path\n",
        "    ax.set_boundary(rect_in_target)\n",
        "\n",
        "    return fig, ax"
      ]
    },
    {
      "cell_type": "code",
      "execution_count": null,
      "metadata": {
        "id": "RVNtzPCsHNkI"
      },
      "outputs": [],
      "source": [
        "def plot_shaded_topography(fig, ax):\n",
        "    \"\"\"\n",
        "    Plots shaded topography and bathymetry on a map with hill shading and contours.\n",
        "\n",
        "    This function adds shaded relief and bathymetry to an existing map plot. It uses hill shading to create a 3D effect\n",
        "    and overlays bathymetric data. Contour lines are added to highlight specific depth levels in the bathymetric data.\n",
        "    Because I was lazy, this docstring was also written by ChatGPT.\n",
        "\n",
        "    Args:\n",
        "        fig (matplotlib.figure.Figure): The figure object to plot on.\n",
        "        ax (matplotlib.axes._subplots.AxesSubplot): The axis object to plot on.\n",
        "\n",
        "    Example:\n",
        "        fig, ax = setup_curved_map_shape()\n",
        "        plot_shaded_topography(fig, ax)\n",
        "        plt.show()\n",
        "\n",
        "    Note:\n",
        "        Ensure the variables `subset_data`, `left`, `right`, `bottom`, `top`, and `subset` are defined in the appropriate scope when calling this function.\n",
        "    \"\"\"\n",
        "    # Define direction of light source\n",
        "    ls = mcolors.LightSource(azdeg=315, altdeg=45)\n",
        "\n",
        "    # Plot and shade a base layer\n",
        "    shade_only = np.array(subset_data)\n",
        "    shade_only = shade_only.astype(float)  # Ensure float type\n",
        "\n",
        "    # Compute hill shading\n",
        "    shade = ls.hillshade(shade_only, vert_exag=0.1)\n",
        "\n",
        "    # Plot the shaded relief using imshow\n",
        "    # interpolation = 'none' is needed for good looking exports to svg or pdf\n",
        "    ax.imshow(shade, extent=(left, right, bottom, top), transform=ccrs.PlateCarree(), origin='upper', cmap=cm.cm.gray, interpolation='none')\n",
        "\n",
        "    # Use imshow to plot the bathymetry (negative values)\n",
        "    bathymetry = np.where(subset_data >= 0, np.nan, subset_data)\n",
        "    im = ax.imshow(bathymetry, extent=(left, right, bottom, top),\n",
        "                   transform=ccrs.PlateCarree(),\n",
        "                   origin='upper', cmap=cm.cm.ice,\n",
        "                   vmin=-5000,\n",
        "                   interpolation='none')\n",
        "\n",
        "    # Add colorbar for bathymetry\n",
        "    cbar = plt.colorbar(im, ax=ax, orientation='vertical')\n",
        "    cbar.set_label('Bathymetry (m)')\n",
        "\n",
        "    # Prepare data for hill shading only below 0 with transparency\n",
        "    shade_only = np.where(subset_data > 0, np.nan, subset_data)\n",
        "    shade_only = shade_only.astype(float)  # Ensure float type\n",
        "\n",
        "    # Compute hill shading with transparency\n",
        "    shade = ls.hillshade(shade_only, vert_exag=0.01, fraction=0.01)\n",
        "\n",
        "    # Create a colormap that goes from fully transparent to black with some transparency\n",
        "    transparent = mcolors.colorConverter.to_rgba('white', alpha=0)\n",
        "    black = mcolors.colorConverter.to_rgba('black', alpha=0.3)\n",
        "    custom_shading_cmap = mcolors.LinearSegmentedColormap.from_list('rb_cmap', [transparent, black], 512)\n",
        "\n",
        "    # Use imshow to shade bathymetry\n",
        "    ax.imshow(shade, extent=(left, right, bottom, top), transform=ccrs.PlateCarree(), origin='upper', cmap=custom_shading_cmap, interpolation='none')\n",
        "\n",
        "    # Extract coordinates for contour plotting\n",
        "    lon, lat = subset.x.values, subset.y.values\n",
        "    lon_grid, lat_grid = np.meshgrid(lon, lat)\n",
        "\n",
        "    # Create contour lines for specified depths, in the bathymetry map as well as in the colormap\n",
        "    levels = [-4000, -3000, -2000, -1000]\n",
        "    contour = ax.contour(lon_grid, lat_grid, subset_data, transform=ccrs.PlateCarree(),\n",
        "                         levels=levels, colors=\"white\", linestyles=\"solid\", linewidths=0.5)\n",
        "    cbar.add_lines(levels, colors=len(levels)*[\"w\"], linewidths=1)\n"
      ]
    },
    {
      "cell_type": "code",
      "execution_count": null,
      "metadata": {
        "colab": {
          "background_save": true,
          "base_uri": "https://localhost:8080/",
          "height": 487
        },
        "id": "MVjWjet2I3pr",
        "outputId": "925fc320-9ee0-44f8-9eec-c67960f585b1"
      },
      "outputs": [
        {
          "ename": "KeyboardInterrupt",
          "evalue": "",
          "output_type": "error",
          "traceback": [
            "\u001b[0;31m---------------------------------------------------------------------------\u001b[0m",
            "\u001b[0;31mKeyboardInterrupt\u001b[0m                         Traceback (most recent call last)",
            "\u001b[0;32m<ipython-input-81-d0cd8f773ce2>\u001b[0m in \u001b[0;36m<cell line: 2>\u001b[0;34m()\u001b[0m\n\u001b[1;32m      1\u001b[0m \u001b[0mfig\u001b[0m\u001b[0;34m,\u001b[0m \u001b[0max\u001b[0m \u001b[0;34m=\u001b[0m \u001b[0msetup_curved_map_shape\u001b[0m\u001b[0;34m(\u001b[0m\u001b[0;34m)\u001b[0m\u001b[0;34m\u001b[0m\u001b[0;34m\u001b[0m\u001b[0m\n\u001b[0;32m----> 2\u001b[0;31m \u001b[0mplot_shaded_topography\u001b[0m\u001b[0;34m(\u001b[0m\u001b[0mfig\u001b[0m\u001b[0;34m,\u001b[0m\u001b[0max\u001b[0m\u001b[0;34m)\u001b[0m\u001b[0;34m\u001b[0m\u001b[0;34m\u001b[0m\u001b[0m\n\u001b[0m\u001b[1;32m      3\u001b[0m \u001b[0;34m\u001b[0m\u001b[0m\n\u001b[1;32m      4\u001b[0m gl = ax.gridlines(\n\u001b[1;32m      5\u001b[0m     \u001b[0mxlocs\u001b[0m \u001b[0;34m=\u001b[0m \u001b[0mnp\u001b[0m\u001b[0;34m.\u001b[0m\u001b[0marange\u001b[0m\u001b[0;34m(\u001b[0m\u001b[0;34m-\u001b[0m\u001b[0;36m60\u001b[0m\u001b[0;34m,\u001b[0m\u001b[0;34m-\u001b[0m\u001b[0;36m10\u001b[0m\u001b[0;34m,\u001b[0m\u001b[0;36m10\u001b[0m\u001b[0;34m)\u001b[0m\u001b[0;34m,\u001b[0m\u001b[0;34m\u001b[0m\u001b[0;34m\u001b[0m\u001b[0m\n",
            "\u001b[0;32m<ipython-input-80-f337099e21e2>\u001b[0m in \u001b[0;36mplot_shaded_topography\u001b[0;34m(fig, ax)\u001b[0m\n\u001b[1;32m     31\u001b[0m     \u001b[0;31m# Plot the shaded relief using imshow\u001b[0m\u001b[0;34m\u001b[0m\u001b[0;34m\u001b[0m\u001b[0m\n\u001b[1;32m     32\u001b[0m     \u001b[0;31m# interpolation = 'none' is needed for good looking exports to svg or pdf\u001b[0m\u001b[0;34m\u001b[0m\u001b[0;34m\u001b[0m\u001b[0m\n\u001b[0;32m---> 33\u001b[0;31m     \u001b[0max\u001b[0m\u001b[0;34m.\u001b[0m\u001b[0mimshow\u001b[0m\u001b[0;34m(\u001b[0m\u001b[0mshade\u001b[0m\u001b[0;34m,\u001b[0m \u001b[0mextent\u001b[0m\u001b[0;34m=\u001b[0m\u001b[0;34m(\u001b[0m\u001b[0mleft\u001b[0m\u001b[0;34m,\u001b[0m \u001b[0mright\u001b[0m\u001b[0;34m,\u001b[0m \u001b[0mbottom\u001b[0m\u001b[0;34m,\u001b[0m \u001b[0mtop\u001b[0m\u001b[0;34m)\u001b[0m\u001b[0;34m,\u001b[0m \u001b[0mtransform\u001b[0m\u001b[0;34m=\u001b[0m\u001b[0mccrs\u001b[0m\u001b[0;34m.\u001b[0m\u001b[0mPlateCarree\u001b[0m\u001b[0;34m(\u001b[0m\u001b[0;34m)\u001b[0m\u001b[0;34m,\u001b[0m \u001b[0morigin\u001b[0m\u001b[0;34m=\u001b[0m\u001b[0;34m'upper'\u001b[0m\u001b[0;34m,\u001b[0m \u001b[0mcmap\u001b[0m\u001b[0;34m=\u001b[0m\u001b[0mcm\u001b[0m\u001b[0;34m.\u001b[0m\u001b[0mcm\u001b[0m\u001b[0;34m.\u001b[0m\u001b[0mgray\u001b[0m\u001b[0;34m,\u001b[0m \u001b[0minterpolation\u001b[0m\u001b[0;34m=\u001b[0m\u001b[0;34m'none'\u001b[0m\u001b[0;34m)\u001b[0m\u001b[0;34m\u001b[0m\u001b[0;34m\u001b[0m\u001b[0m\n\u001b[0m\u001b[1;32m     34\u001b[0m \u001b[0;34m\u001b[0m\u001b[0m\n\u001b[1;32m     35\u001b[0m     \u001b[0;31m# Use imshow to plot the bathymetry (negative values)\u001b[0m\u001b[0;34m\u001b[0m\u001b[0;34m\u001b[0m\u001b[0m\n",
            "\u001b[0;32m/usr/local/lib/python3.10/dist-packages/cartopy/mpl/geoaxes.py\u001b[0m in \u001b[0;36mwrapper\u001b[0;34m(self, *args, **kwargs)\u001b[0m\n\u001b[1;32m    305\u001b[0m \u001b[0;34m\u001b[0m\u001b[0m\n\u001b[1;32m    306\u001b[0m         \u001b[0mkwargs\u001b[0m\u001b[0;34m[\u001b[0m\u001b[0;34m'transform'\u001b[0m\u001b[0;34m]\u001b[0m \u001b[0;34m=\u001b[0m \u001b[0mtransform\u001b[0m\u001b[0;34m\u001b[0m\u001b[0;34m\u001b[0m\u001b[0m\n\u001b[0;32m--> 307\u001b[0;31m         \u001b[0;32mreturn\u001b[0m \u001b[0mfunc\u001b[0m\u001b[0;34m(\u001b[0m\u001b[0mself\u001b[0m\u001b[0;34m,\u001b[0m \u001b[0;34m*\u001b[0m\u001b[0margs\u001b[0m\u001b[0;34m,\u001b[0m \u001b[0;34m**\u001b[0m\u001b[0mkwargs\u001b[0m\u001b[0;34m)\u001b[0m\u001b[0;34m\u001b[0m\u001b[0;34m\u001b[0m\u001b[0m\n\u001b[0m\u001b[1;32m    308\u001b[0m     \u001b[0;32mreturn\u001b[0m \u001b[0mwrapper\u001b[0m\u001b[0;34m\u001b[0m\u001b[0;34m\u001b[0m\u001b[0m\n\u001b[1;32m    309\u001b[0m \u001b[0;34m\u001b[0m\u001b[0m\n",
            "\u001b[0;32m/usr/local/lib/python3.10/dist-packages/cartopy/mpl/geoaxes.py\u001b[0m in \u001b[0;36mimshow\u001b[0;34m(self, img, *args, **kwargs)\u001b[0m\n\u001b[1;32m   1312\u001b[0m             \u001b[0;32mfrom\u001b[0m \u001b[0mcartopy\u001b[0m\u001b[0;34m.\u001b[0m\u001b[0mimg_transform\u001b[0m \u001b[0;32mimport\u001b[0m \u001b[0mwarp_array\u001b[0m\u001b[0;34m\u001b[0m\u001b[0;34m\u001b[0m\u001b[0m\n\u001b[1;32m   1313\u001b[0m             \u001b[0moriginal_extent\u001b[0m \u001b[0;34m=\u001b[0m \u001b[0mextent\u001b[0m\u001b[0;34m\u001b[0m\u001b[0;34m\u001b[0m\u001b[0m\n\u001b[0;32m-> 1314\u001b[0;31m             img, extent = warp_array(img,\n\u001b[0m\u001b[1;32m   1315\u001b[0m                                      \u001b[0msource_proj\u001b[0m\u001b[0;34m=\u001b[0m\u001b[0mtransform\u001b[0m\u001b[0;34m,\u001b[0m\u001b[0;34m\u001b[0m\u001b[0;34m\u001b[0m\u001b[0m\n\u001b[1;32m   1316\u001b[0m                                      \u001b[0msource_extent\u001b[0m\u001b[0;34m=\u001b[0m\u001b[0moriginal_extent\u001b[0m\u001b[0;34m,\u001b[0m\u001b[0;34m\u001b[0m\u001b[0;34m\u001b[0m\u001b[0m\n",
            "\u001b[0;32m/usr/local/lib/python3.10/dist-packages/cartopy/img_transform.py\u001b[0m in \u001b[0;36mwarp_array\u001b[0;34m(array, target_proj, source_proj, target_res, source_extent, target_extent, mask_extrapolated)\u001b[0m\n\u001b[1;32m    190\u001b[0m         x_extents=target_x_extents, y_extents=target_y_extents)\n\u001b[1;32m    191\u001b[0m \u001b[0;34m\u001b[0m\u001b[0m\n\u001b[0;32m--> 192\u001b[0;31m     array = regrid(array, source_native_xy[0], source_native_xy[1],\n\u001b[0m\u001b[1;32m    193\u001b[0m                    \u001b[0msource_proj\u001b[0m\u001b[0;34m,\u001b[0m \u001b[0mtarget_proj\u001b[0m\u001b[0;34m,\u001b[0m\u001b[0;34m\u001b[0m\u001b[0;34m\u001b[0m\u001b[0m\n\u001b[1;32m    194\u001b[0m                    \u001b[0mtarget_native_x\u001b[0m\u001b[0;34m,\u001b[0m \u001b[0mtarget_native_y\u001b[0m\u001b[0;34m,\u001b[0m\u001b[0;34m\u001b[0m\u001b[0;34m\u001b[0m\u001b[0m\n",
            "\u001b[0;32m/usr/local/lib/python3.10/dist-packages/cartopy/img_transform.py\u001b[0m in \u001b[0;36mregrid\u001b[0;34m(array, source_x_coords, source_y_coords, source_proj, target_proj, target_x_points, target_y_points, mask_extrapolated)\u001b[0m\n\u001b[1;32m    282\u001b[0m         \u001b[0;31m# Versions of scipy >= v0.16 added the balanced_tree argument,\u001b[0m\u001b[0;34m\u001b[0m\u001b[0;34m\u001b[0m\u001b[0m\n\u001b[1;32m    283\u001b[0m         \u001b[0;31m# which caused the KDTree to hang with this input.\u001b[0m\u001b[0;34m\u001b[0m\u001b[0;34m\u001b[0m\u001b[0m\n\u001b[0;32m--> 284\u001b[0;31m         \u001b[0mkdtree\u001b[0m \u001b[0;34m=\u001b[0m \u001b[0m_kdtreeClass\u001b[0m\u001b[0;34m(\u001b[0m\u001b[0mxyz\u001b[0m\u001b[0;34m,\u001b[0m \u001b[0mbalanced_tree\u001b[0m\u001b[0;34m=\u001b[0m\u001b[0;32mFalse\u001b[0m\u001b[0;34m)\u001b[0m\u001b[0;34m\u001b[0m\u001b[0;34m\u001b[0m\u001b[0m\n\u001b[0m\u001b[1;32m    285\u001b[0m         \u001b[0m_\u001b[0m\u001b[0;34m,\u001b[0m \u001b[0mindices\u001b[0m\u001b[0;34m[\u001b[0m\u001b[0mfinite_xyz\u001b[0m\u001b[0;34m]\u001b[0m \u001b[0;34m=\u001b[0m \u001b[0mkdtree\u001b[0m\u001b[0;34m.\u001b[0m\u001b[0mquery\u001b[0m\u001b[0;34m(\u001b[0m\u001b[0mtarget_xyz\u001b[0m\u001b[0;34m[\u001b[0m\u001b[0mfinite_xyz\u001b[0m\u001b[0;34m,\u001b[0m \u001b[0;34m:\u001b[0m\u001b[0;34m]\u001b[0m\u001b[0;34m,\u001b[0m \u001b[0mk\u001b[0m\u001b[0;34m=\u001b[0m\u001b[0;36m1\u001b[0m\u001b[0;34m)\u001b[0m\u001b[0;34m\u001b[0m\u001b[0;34m\u001b[0m\u001b[0m\n\u001b[1;32m    286\u001b[0m \u001b[0;34m\u001b[0m\u001b[0m\n",
            "\u001b[0;31mKeyboardInterrupt\u001b[0m: "
          ]
        },
        {
          "data": {
            "image/png": "[encoded data removed]",
            "text/plain": [
              "<Figure size 640x480 with 1 Axes>"
            ]
          },
          "metadata": {},
          "output_type": "display_data"
        }
      ],
      "source": [
        "fig, ax = setup_curved_map_shape()\n",
        "plot_shaded_topography(fig,ax)\n",
        "\n",
        "gl = ax.gridlines(\n",
        "    xlocs = np.arange(-60,-10,10),\n",
        "    ylocs = np.arange(-80,-60,4),\n",
        "    # This is commented out as it does not produce the desired results\n",
        "    # as not all grid lines will be labelled\n",
        "    # draw_labels=[\"top\", \"left\", \"x\", \"y\"],\n",
        "    dms=True,\n",
        "    x_inline=False,\n",
        "    y_inline=False\n",
        "    )\n",
        "\n",
        "fig.tight_layout()\n",
        "\n",
        "# If you run this on google colab, download the image as follows:\n",
        "plt.savefig(\"map.png\", bbox_inches='tight', dpi = 400)\n",
        "# plt.savefig(\"map.svg\")\n",
        "\n",
        "from google.colab import files\n",
        "files.download(\"map.png\")\n",
        "# files.download(\"map.svg\")"
      ]
    }
  ],
  "metadata": {
    "colab": {
      "provenance": [],
      "authorship_tag": "ABX9TyOD+n0DHhtgzJDXW3ceSnRt",
      "include_colab_link": true
    },
    "kernelspec": {
      "display_name": "Python 3",
      "name": "python3"
    },
    "language_info": {
      "name": "python"
    }
  },
  "nbformat": 4,
  "nbformat_minor": 0
}