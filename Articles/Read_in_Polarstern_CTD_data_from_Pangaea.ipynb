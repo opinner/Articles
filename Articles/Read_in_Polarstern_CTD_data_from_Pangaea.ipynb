{
  "cells": [
    {
      "cell_type": "markdown",
      "metadata": {
        "id": "view-in-github",
        "colab_type": "text"
      },
      "source": [
        "<a href=\"https://colab.research.google.com/github/opinner/Articles/blob/main/Articles/Read_in_Polarstern_CTD_data_from_Pangaea.ipynb\" target=\"_parent\"><img src=\"https://colab.research.google.com/assets/colab-badge.svg\" alt=\"Open In Colab\"/></a>"
      ]
    },
    {
      "cell_type": "markdown",
      "source": [
        "# Read in & Plot CTD data measured during a Polarstern cruise, taken from Pangaea"
      ],
      "metadata": {
        "id": "2gsA58LmVWXN"
      },
      "id": "2gsA58LmVWXN"
    },
    {
      "cell_type": "markdown",
      "source": [
        "This article can also be viewed and interacted with in Google Colab."
      ],
      "metadata": {
        "id": "KTHn384bVUXb"
      },
      "id": "KTHn384bVUXb"
    },
    {
      "cell_type": "markdown",
      "source": [
        "Comment the following cell out, if you don't run this notebook on Google Colab. "
      ],
      "metadata": {
        "id": "bZG2OdgWH8pv"
      },
      "id": "bZG2OdgWH8pv"
    },
    {
      "cell_type": "code",
      "source": [
        "!pip install gsw\n",
        "#INSTALL CARTOPY"
      ],
      "metadata": {
        "id": "6g03VWdbIOzV"
      },
      "id": "6g03VWdbIOzV",
      "execution_count": null,
      "outputs": []
    },
    {
      "cell_type": "markdown",
      "source": [
        "## Import necessary packages"
      ],
      "metadata": {
        "id": "MTubdL2VIURF"
      },
      "id": "MTubdL2VIURF"
    },
    {
      "cell_type": "code",
      "execution_count": null,
      "id": "144980b5",
      "metadata": {
        "colab": {
          "base_uri": "https://localhost:8080/"
        },
        "id": "144980b5",
        "outputId": "10a7aa8b-215d-4ef2-de27-7c53f3c0865e"
      },
      "outputs": [
        {
          "output_type": "stream",
          "name": "stdout",
          "text": [
            "Looking in indexes: https://pypi.org/simple, https://us-python.pkg.dev/colab-wheels/public/simple/\n",
            "Requirement already satisfied: gsw in /usr/local/lib/python3.9/dist-packages (3.6.16.post1)\n",
            "Requirement already satisfied: numpy in /usr/local/lib/python3.9/dist-packages (from gsw) (1.22.4)\n"
          ]
        }
      ],
      "source": [
        "import numpy as np\n",
        "import pandas as pd\n",
        "import scipy.signal as signal\n",
        "import matplotlib.pyplot as plt\n",
        "plt.rcParams.update({\n",
        "    \"figure.facecolor\":  \"white\",  \n",
        "    \"savefig.facecolor\": \"white\",  \n",
        "    \"figure.figsize\": [8,6]\n",
        "})\n",
        "import gsw #Gibbs Seawater Toolbox https://github.com/TEOS-10/GSW-Python"
      ]
    },
    {
      "cell_type": "markdown",
      "id": "86aa08d7",
      "metadata": {
        "id": "86aa08d7"
      },
      "source": [
        "## Download CTD data from Pangaea"
      ]
    },
    {
      "cell_type": "markdown",
      "id": "241601b1",
      "metadata": {
        "id": "241601b1"
      },
      "source": [
        "This data is from the Polarstern expedition PS107 and can be found here https://doi.pangaea.de/10.1594/PANGAEA.881076."
      ]
    },
    {
      "cell_type": "code",
      "execution_count": null,
      "id": "cfd80fa2",
      "metadata": {
        "colab": {
          "base_uri": "https://localhost:8080/",
          "height": 485
        },
        "id": "cfd80fa2",
        "outputId": "149b70c6-b0c3-4f18-d6fd-78dfdf35e6fb"
      },
      "outputs": [
        {
          "output_type": "execute_result",
          "data": {
            "text/plain": [
              "             Event         Date/Time  Latitude  Longitude  Elevation [m]  \\\n",
              "0        PS103_1-1  2016-12-20T13:22  -45.9549     6.2873            NaN   \n",
              "1        PS103_1-1  2016-12-20T13:22  -45.9549     6.2873            NaN   \n",
              "2        PS103_1-1  2016-12-20T13:22  -45.9549     6.2873            NaN   \n",
              "3        PS103_1-1  2016-12-20T13:22  -45.9549     6.2873            NaN   \n",
              "4        PS103_1-1  2016-12-20T13:22  -45.9549     6.2873            NaN   \n",
              "...            ...               ...       ...        ...            ...   \n",
              "135593  PS103_73-1  2017-01-30T14:15  -58.4732   -59.6448        -3772.0   \n",
              "135594  PS103_73-1  2017-01-30T14:15  -58.4732   -59.6448        -3772.0   \n",
              "135595  PS103_73-1  2017-01-30T14:15  -58.4732   -59.6448        -3772.0   \n",
              "135596  PS103_73-1  2017-01-30T14:15  -58.4732   -59.6448        -3772.0   \n",
              "135597  PS103_73-1  2017-01-30T14:15  -58.4732   -59.6448        -3772.0   \n",
              "\n",
              "        Depth water [m]  Press [dbar]  Temp [°C]  Cond [mS/cm]      Sal  \\\n",
              "0                   5.0             5     5.2788       32.6967  33.8338   \n",
              "1                   6.0             6     5.2876       32.7052  33.8342   \n",
              "2                   6.9             7     5.2860       32.7040  33.8339   \n",
              "3                   7.9             8     5.2472       32.6700  33.8336   \n",
              "4                   8.9             9     5.2497       32.6728  33.8338   \n",
              "...                 ...           ...        ...           ...      ...   \n",
              "135593            302.9           306     1.5835       30.1951  34.5473   \n",
              "135594            303.9           307     1.5920       30.2044  34.5493   \n",
              "135595            304.9           308     1.6089       30.2229  34.5536   \n",
              "135596            305.9           309     1.6477       30.2622  34.5601   \n",
              "135597            306.9           310     1.6653       30.2797  34.5625   \n",
              "\n",
              "        Tpot [°C]  Sigma-theta [kg/m**3]  O2 [µmol/l]  O2 sat [%]  \\\n",
              "0          5.2784                26.7185      334.377      105.52   \n",
              "1          5.2871                26.7178      334.089      105.45   \n",
              "2          5.2855                26.7178      334.242      105.49   \n",
              "3          5.2466                26.7221      334.715      105.54   \n",
              "4          5.2490                26.7220      334.284      105.41   \n",
              "...           ...                    ...          ...         ...   \n",
              "135593     1.5679                27.6419      196.284       56.77   \n",
              "135594     1.5763                27.6429      195.932       56.68   \n",
              "135595     1.5931                27.6451      195.908       56.70   \n",
              "135596     1.6318                27.6475      195.515       56.64   \n",
              "135597     1.6493                27.6481      194.968       56.51   \n",
              "\n",
              "        Attenuation [arbitrary units]  Fluorometer [arbitrary units]  NOBS [#]  \n",
              "0                               75.54                           0.38         8  \n",
              "1                               87.20                           0.38        16  \n",
              "2                               88.10                           0.39        14  \n",
              "3                               88.07                           0.44        12  \n",
              "4                               88.02                           0.49        14  \n",
              "...                               ...                            ...       ...  \n",
              "135593                          91.69                          -0.02        18  \n",
              "135594                          91.68                          -0.02        14  \n",
              "135595                          91.69                          -0.02        18  \n",
              "135596                          91.70                          -0.02        21  \n",
              "135597                          91.69                          -0.02         1  \n",
              "\n",
              "[135598 rows x 17 columns]"
            ],
            "text/html": [
              "\n",
              "  <div id=\"df-4483f138-8aaa-435c-82a9-505b68d5e2a2\">\n",
              "    <div class=\"colab-df-container\">\n",
              "      <div>\n",
              "<style scoped>\n",
              "    .dataframe tbody tr th:only-of-type {\n",
              "        vertical-align: middle;\n",
              "    }\n",
              "\n",
              "    .dataframe tbody tr th {\n",
              "        vertical-align: top;\n",
              "    }\n",
              "\n",
              "    .dataframe thead th {\n",
              "        text-align: right;\n",
              "    }\n",
              "</style>\n",
              "<table border=\"1\" class=\"dataframe\">\n",
              "  <thead>\n",
              "    <tr style=\"text-align: right;\">\n",
              "      <th></th>\n",
              "      <th>Event</th>\n",
              "      <th>Date/Time</th>\n",
              "      <th>Latitude</th>\n",
              "      <th>Longitude</th>\n",
              "      <th>Elevation [m]</th>\n",
              "      <th>Depth water [m]</th>\n",
              "      <th>Press [dbar]</th>\n",
              "      <th>Temp [°C]</th>\n",
              "      <th>Cond [mS/cm]</th>\n",
              "      <th>Sal</th>\n",
              "      <th>Tpot [°C]</th>\n",
              "      <th>Sigma-theta [kg/m**3]</th>\n",
              "      <th>O2 [µmol/l]</th>\n",
              "      <th>O2 sat [%]</th>\n",
              "      <th>Attenuation [arbitrary units]</th>\n",
              "      <th>Fluorometer [arbitrary units]</th>\n",
              "      <th>NOBS [#]</th>\n",
              "    </tr>\n",
              "  </thead>\n",
              "  <tbody>\n",
              "    <tr>\n",
              "      <th>0</th>\n",
              "      <td>PS103_1-1</td>\n",
              "      <td>2016-12-20T13:22</td>\n",
              "      <td>-45.9549</td>\n",
              "      <td>6.2873</td>\n",
              "      <td>NaN</td>\n",
              "      <td>5.0</td>\n",
              "      <td>5</td>\n",
              "      <td>5.2788</td>\n",
              "      <td>32.6967</td>\n",
              "      <td>33.8338</td>\n",
              "      <td>5.2784</td>\n",
              "      <td>26.7185</td>\n",
              "      <td>334.377</td>\n",
              "      <td>105.52</td>\n",
              "      <td>75.54</td>\n",
              "      <td>0.38</td>\n",
              "      <td>8</td>\n",
              "    </tr>\n",
              "    <tr>\n",
              "      <th>1</th>\n",
              "      <td>PS103_1-1</td>\n",
              "      <td>2016-12-20T13:22</td>\n",
              "      <td>-45.9549</td>\n",
              "      <td>6.2873</td>\n",
              "      <td>NaN</td>\n",
              "      <td>6.0</td>\n",
              "      <td>6</td>\n",
              "      <td>5.2876</td>\n",
              "      <td>32.7052</td>\n",
              "      <td>33.8342</td>\n",
              "      <td>5.2871</td>\n",
              "      <td>26.7178</td>\n",
              "      <td>334.089</td>\n",
              "      <td>105.45</td>\n",
              "      <td>87.20</td>\n",
              "      <td>0.38</td>\n",
              "      <td>16</td>\n",
              "    </tr>\n",
              "    <tr>\n",
              "      <th>2</th>\n",
              "      <td>PS103_1-1</td>\n",
              "      <td>2016-12-20T13:22</td>\n",
              "      <td>-45.9549</td>\n",
              "      <td>6.2873</td>\n",
              "      <td>NaN</td>\n",
              "      <td>6.9</td>\n",
              "      <td>7</td>\n",
              "      <td>5.2860</td>\n",
              "      <td>32.7040</td>\n",
              "      <td>33.8339</td>\n",
              "      <td>5.2855</td>\n",
              "      <td>26.7178</td>\n",
              "      <td>334.242</td>\n",
              "      <td>105.49</td>\n",
              "      <td>88.10</td>\n",
              "      <td>0.39</td>\n",
              "      <td>14</td>\n",
              "    </tr>\n",
              "    <tr>\n",
              "      <th>3</th>\n",
              "      <td>PS103_1-1</td>\n",
              "      <td>2016-12-20T13:22</td>\n",
              "      <td>-45.9549</td>\n",
              "      <td>6.2873</td>\n",
              "      <td>NaN</td>\n",
              "      <td>7.9</td>\n",
              "      <td>8</td>\n",
              "      <td>5.2472</td>\n",
              "      <td>32.6700</td>\n",
              "      <td>33.8336</td>\n",
              "      <td>5.2466</td>\n",
              "      <td>26.7221</td>\n",
              "      <td>334.715</td>\n",
              "      <td>105.54</td>\n",
              "      <td>88.07</td>\n",
              "      <td>0.44</td>\n",
              "      <td>12</td>\n",
              "    </tr>\n",
              "    <tr>\n",
              "      <th>4</th>\n",
              "      <td>PS103_1-1</td>\n",
              "      <td>2016-12-20T13:22</td>\n",
              "      <td>-45.9549</td>\n",
              "      <td>6.2873</td>\n",
              "      <td>NaN</td>\n",
              "      <td>8.9</td>\n",
              "      <td>9</td>\n",
              "      <td>5.2497</td>\n",
              "      <td>32.6728</td>\n",
              "      <td>33.8338</td>\n",
              "      <td>5.2490</td>\n",
              "      <td>26.7220</td>\n",
              "      <td>334.284</td>\n",
              "      <td>105.41</td>\n",
              "      <td>88.02</td>\n",
              "      <td>0.49</td>\n",
              "      <td>14</td>\n",
              "    </tr>\n",
              "    <tr>\n",
              "      <th>...</th>\n",
              "      <td>...</td>\n",
              "      <td>...</td>\n",
              "      <td>...</td>\n",
              "      <td>...</td>\n",
              "      <td>...</td>\n",
              "      <td>...</td>\n",
              "      <td>...</td>\n",
              "      <td>...</td>\n",
              "      <td>...</td>\n",
              "      <td>...</td>\n",
              "      <td>...</td>\n",
              "      <td>...</td>\n",
              "      <td>...</td>\n",
              "      <td>...</td>\n",
              "      <td>...</td>\n",
              "      <td>...</td>\n",
              "      <td>...</td>\n",
              "    </tr>\n",
              "    <tr>\n",
              "      <th>135593</th>\n",
              "      <td>PS103_73-1</td>\n",
              "      <td>2017-01-30T14:15</td>\n",
              "      <td>-58.4732</td>\n",
              "      <td>-59.6448</td>\n",
              "      <td>-3772.0</td>\n",
              "      <td>302.9</td>\n",
              "      <td>306</td>\n",
              "      <td>1.5835</td>\n",
              "      <td>30.1951</td>\n",
              "      <td>34.5473</td>\n",
              "      <td>1.5679</td>\n",
              "      <td>27.6419</td>\n",
              "      <td>196.284</td>\n",
              "      <td>56.77</td>\n",
              "      <td>91.69</td>\n",
              "      <td>-0.02</td>\n",
              "      <td>18</td>\n",
              "    </tr>\n",
              "    <tr>\n",
              "      <th>135594</th>\n",
              "      <td>PS103_73-1</td>\n",
              "      <td>2017-01-30T14:15</td>\n",
              "      <td>-58.4732</td>\n",
              "      <td>-59.6448</td>\n",
              "      <td>-3772.0</td>\n",
              "      <td>303.9</td>\n",
              "      <td>307</td>\n",
              "      <td>1.5920</td>\n",
              "      <td>30.2044</td>\n",
              "      <td>34.5493</td>\n",
              "      <td>1.5763</td>\n",
              "      <td>27.6429</td>\n",
              "      <td>195.932</td>\n",
              "      <td>56.68</td>\n",
              "      <td>91.68</td>\n",
              "      <td>-0.02</td>\n",
              "      <td>14</td>\n",
              "    </tr>\n",
              "    <tr>\n",
              "      <th>135595</th>\n",
              "      <td>PS103_73-1</td>\n",
              "      <td>2017-01-30T14:15</td>\n",
              "      <td>-58.4732</td>\n",
              "      <td>-59.6448</td>\n",
              "      <td>-3772.0</td>\n",
              "      <td>304.9</td>\n",
              "      <td>308</td>\n",
              "      <td>1.6089</td>\n",
              "      <td>30.2229</td>\n",
              "      <td>34.5536</td>\n",
              "      <td>1.5931</td>\n",
              "      <td>27.6451</td>\n",
              "      <td>195.908</td>\n",
              "      <td>56.70</td>\n",
              "      <td>91.69</td>\n",
              "      <td>-0.02</td>\n",
              "      <td>18</td>\n",
              "    </tr>\n",
              "    <tr>\n",
              "      <th>135596</th>\n",
              "      <td>PS103_73-1</td>\n",
              "      <td>2017-01-30T14:15</td>\n",
              "      <td>-58.4732</td>\n",
              "      <td>-59.6448</td>\n",
              "      <td>-3772.0</td>\n",
              "      <td>305.9</td>\n",
              "      <td>309</td>\n",
              "      <td>1.6477</td>\n",
              "      <td>30.2622</td>\n",
              "      <td>34.5601</td>\n",
              "      <td>1.6318</td>\n",
              "      <td>27.6475</td>\n",
              "      <td>195.515</td>\n",
              "      <td>56.64</td>\n",
              "      <td>91.70</td>\n",
              "      <td>-0.02</td>\n",
              "      <td>21</td>\n",
              "    </tr>\n",
              "    <tr>\n",
              "      <th>135597</th>\n",
              "      <td>PS103_73-1</td>\n",
              "      <td>2017-01-30T14:15</td>\n",
              "      <td>-58.4732</td>\n",
              "      <td>-59.6448</td>\n",
              "      <td>-3772.0</td>\n",
              "      <td>306.9</td>\n",
              "      <td>310</td>\n",
              "      <td>1.6653</td>\n",
              "      <td>30.2797</td>\n",
              "      <td>34.5625</td>\n",
              "      <td>1.6493</td>\n",
              "      <td>27.6481</td>\n",
              "      <td>194.968</td>\n",
              "      <td>56.51</td>\n",
              "      <td>91.69</td>\n",
              "      <td>-0.02</td>\n",
              "      <td>1</td>\n",
              "    </tr>\n",
              "  </tbody>\n",
              "</table>\n",
              "<p>135598 rows × 17 columns</p>\n",
              "</div>\n",
              "      <button class=\"colab-df-convert\" onclick=\"convertToInteractive('df-4483f138-8aaa-435c-82a9-505b68d5e2a2')\"\n",
              "              title=\"Convert this dataframe to an interactive table.\"\n",
              "              style=\"display:none;\">\n",
              "        \n",
              "  <svg xmlns=\"http://www.w3.org/2000/svg\" height=\"24px\"viewBox=\"0 0 24 24\"\n",
              "       width=\"24px\">\n",
              "    <path d=\"M0 0h24v24H0V0z\" fill=\"none\"/>\n",
              "    <path d=\"M18.56 5.44l.94 2.06.94-2.06 2.06-.94-2.06-.94-.94-2.06-.94 2.06-2.06.94zm-11 1L8.5 8.5l.94-2.06 2.06-.94-2.06-.94L8.5 2.5l-.94 2.06-2.06.94zm10 10l.94 2.06.94-2.06 2.06-.94-2.06-.94-.94-2.06-.94 2.06-2.06.94z\"/><path d=\"M17.41 7.96l-1.37-1.37c-.4-.4-.92-.59-1.43-.59-.52 0-1.04.2-1.43.59L10.3 9.45l-7.72 7.72c-.78.78-.78 2.05 0 2.83L4 21.41c.39.39.9.59 1.41.59.51 0 1.02-.2 1.41-.59l7.78-7.78 2.81-2.81c.8-.78.8-2.07 0-2.86zM5.41 20L4 18.59l7.72-7.72 1.47 1.35L5.41 20z\"/>\n",
              "  </svg>\n",
              "      </button>\n",
              "      \n",
              "  <style>\n",
              "    .colab-df-container {\n",
              "      display:flex;\n",
              "      flex-wrap:wrap;\n",
              "      gap: 12px;\n",
              "    }\n",
              "\n",
              "    .colab-df-convert {\n",
              "      background-color: #E8F0FE;\n",
              "      border: none;\n",
              "      border-radius: 50%;\n",
              "      cursor: pointer;\n",
              "      display: none;\n",
              "      fill: #1967D2;\n",
              "      height: 32px;\n",
              "      padding: 0 0 0 0;\n",
              "      width: 32px;\n",
              "    }\n",
              "\n",
              "    .colab-df-convert:hover {\n",
              "      background-color: #E2EBFA;\n",
              "      box-shadow: 0px 1px 2px rgba(60, 64, 67, 0.3), 0px 1px 3px 1px rgba(60, 64, 67, 0.15);\n",
              "      fill: #174EA6;\n",
              "    }\n",
              "\n",
              "    [theme=dark] .colab-df-convert {\n",
              "      background-color: #3B4455;\n",
              "      fill: #D2E3FC;\n",
              "    }\n",
              "\n",
              "    [theme=dark] .colab-df-convert:hover {\n",
              "      background-color: #434B5C;\n",
              "      box-shadow: 0px 1px 3px 1px rgba(0, 0, 0, 0.15);\n",
              "      filter: drop-shadow(0px 1px 2px rgba(0, 0, 0, 0.3));\n",
              "      fill: #FFFFFF;\n",
              "    }\n",
              "  </style>\n",
              "\n",
              "      <script>\n",
              "        const buttonEl =\n",
              "          document.querySelector('#df-4483f138-8aaa-435c-82a9-505b68d5e2a2 button.colab-df-convert');\n",
              "        buttonEl.style.display =\n",
              "          google.colab.kernel.accessAllowed ? 'block' : 'none';\n",
              "\n",
              "        async function convertToInteractive(key) {\n",
              "          const element = document.querySelector('#df-4483f138-8aaa-435c-82a9-505b68d5e2a2');\n",
              "          const dataTable =\n",
              "            await google.colab.kernel.invokeFunction('convertToInteractive',\n",
              "                                                     [key], {});\n",
              "          if (!dataTable) return;\n",
              "\n",
              "          const docLinkHtml = 'Like what you see? Visit the ' +\n",
              "            '<a target=\"_blank\" href=https://colab.research.google.com/notebooks/data_table.ipynb>data table notebook</a>'\n",
              "            + ' to learn more about interactive tables.';\n",
              "          element.innerHTML = '';\n",
              "          dataTable['output_type'] = 'display_data';\n",
              "          await google.colab.output.renderOutput(dataTable, element);\n",
              "          const docLink = document.createElement('div');\n",
              "          docLink.innerHTML = docLinkHtml;\n",
              "          element.appendChild(docLink);\n",
              "        }\n",
              "      </script>\n",
              "    </div>\n",
              "  </div>\n",
              "  "
            ]
          },
          "metadata": {},
          "execution_count": 51
        }
      ],
      "source": [
        "url= \"https://doi.pangaea.de/10.1594/PANGAEA.881076?format=textfile\"\n",
        "data = pd.read_csv(url, delimiter = \"\\t\", skiprows=78)\n",
        "data"
      ]
    },
    {
      "cell_type": "markdown",
      "source": [
        "### Keep only necessary columns"
      ],
      "metadata": {
        "id": "chtNI1RdIwdN"
      },
      "id": "chtNI1RdIwdN"
    },
    {
      "cell_type": "code",
      "source": [
        "profile = profile[['Event', 'Latitude', 'Longitude', 'Depth water [m]', 'Press [dbar]', 'Temp [°C]', 'Sal']]\n",
        "profile"
      ],
      "metadata": {
        "id": "51ggAZSdIshN"
      },
      "id": "51ggAZSdIshN",
      "execution_count": null,
      "outputs": []
    },
    {
      "cell_type": "markdown",
      "id": "5cb60ddb",
      "metadata": {
        "id": "5cb60ddb"
      },
      "source": [
        "## Variable conversions"
      ]
    },
    {
      "cell_type": "markdown",
      "id": "05289f32",
      "metadata": {
        "id": "05289f32"
      },
      "source": [
        "* _Sal_ is Potential Salinity in the Pseudounit PSU\n",
        "* _Temp [°C]_ the in-situ temperature in ITS-90\n",
        "\n",
        "All conversions are done with the python version of the Gibbs Seawater toolbox [GSW-Python](https://github.com/TEOS-10/GSW-Python)"
      ]
    },
    {
      "cell_type": "code",
      "execution_count": null,
      "id": "21a48805",
      "metadata": {
        "colab": {
          "base_uri": "https://localhost:8080/",
          "height": 206
        },
        "id": "21a48805",
        "outputId": "217b4592-9a2e-4d6a-ccd0-1c61710be841"
      },
      "outputs": [
        {
          "output_type": "execute_result",
          "data": {
            "text/plain": [
              "        Event  Latitude  Longitude  Depth water [m]  Press [dbar]  Temp [°C]  \\\n",
              "0  PS103_51-1  -63.8924   -49.0801              5.0             5     0.0302   \n",
              "1  PS103_51-1  -63.8924   -49.0801              5.9             6     0.0291   \n",
              "2  PS103_51-1  -63.8924   -49.0801              6.9             7     0.0269   \n",
              "3  PS103_51-1  -63.8924   -49.0801              7.9             8     0.0294   \n",
              "4  PS103_51-1  -63.8924   -49.0801              8.9             9     0.0317   \n",
              "\n",
              "       Sal  Absolute Salinity  Conservative Temperature  \n",
              "0  33.5496          33.713413                  0.036182  \n",
              "1  33.5496          33.713404                  0.035048  \n",
              "2  33.5496          33.713395                  0.032813  \n",
              "3  33.5496          33.713387                  0.035282  \n",
              "4  33.5495          33.713278                  0.037552  "
            ],
            "text/html": [
              "\n",
              "  <div id=\"df-09040158-0eeb-4125-952c-681234506ea8\">\n",
              "    <div class=\"colab-df-container\">\n",
              "      <div>\n",
              "<style scoped>\n",
              "    .dataframe tbody tr th:only-of-type {\n",
              "        vertical-align: middle;\n",
              "    }\n",
              "\n",
              "    .dataframe tbody tr th {\n",
              "        vertical-align: top;\n",
              "    }\n",
              "\n",
              "    .dataframe thead th {\n",
              "        text-align: right;\n",
              "    }\n",
              "</style>\n",
              "<table border=\"1\" class=\"dataframe\">\n",
              "  <thead>\n",
              "    <tr style=\"text-align: right;\">\n",
              "      <th></th>\n",
              "      <th>Event</th>\n",
              "      <th>Latitude</th>\n",
              "      <th>Longitude</th>\n",
              "      <th>Depth water [m]</th>\n",
              "      <th>Press [dbar]</th>\n",
              "      <th>Temp [°C]</th>\n",
              "      <th>Sal</th>\n",
              "      <th>Absolute Salinity</th>\n",
              "      <th>Conservative Temperature</th>\n",
              "    </tr>\n",
              "  </thead>\n",
              "  <tbody>\n",
              "    <tr>\n",
              "      <th>0</th>\n",
              "      <td>PS103_51-1</td>\n",
              "      <td>-63.8924</td>\n",
              "      <td>-49.0801</td>\n",
              "      <td>5.0</td>\n",
              "      <td>5</td>\n",
              "      <td>0.0302</td>\n",
              "      <td>33.5496</td>\n",
              "      <td>33.713413</td>\n",
              "      <td>0.036182</td>\n",
              "    </tr>\n",
              "    <tr>\n",
              "      <th>1</th>\n",
              "      <td>PS103_51-1</td>\n",
              "      <td>-63.8924</td>\n",
              "      <td>-49.0801</td>\n",
              "      <td>5.9</td>\n",
              "      <td>6</td>\n",
              "      <td>0.0291</td>\n",
              "      <td>33.5496</td>\n",
              "      <td>33.713404</td>\n",
              "      <td>0.035048</td>\n",
              "    </tr>\n",
              "    <tr>\n",
              "      <th>2</th>\n",
              "      <td>PS103_51-1</td>\n",
              "      <td>-63.8924</td>\n",
              "      <td>-49.0801</td>\n",
              "      <td>6.9</td>\n",
              "      <td>7</td>\n",
              "      <td>0.0269</td>\n",
              "      <td>33.5496</td>\n",
              "      <td>33.713395</td>\n",
              "      <td>0.032813</td>\n",
              "    </tr>\n",
              "    <tr>\n",
              "      <th>3</th>\n",
              "      <td>PS103_51-1</td>\n",
              "      <td>-63.8924</td>\n",
              "      <td>-49.0801</td>\n",
              "      <td>7.9</td>\n",
              "      <td>8</td>\n",
              "      <td>0.0294</td>\n",
              "      <td>33.5496</td>\n",
              "      <td>33.713387</td>\n",
              "      <td>0.035282</td>\n",
              "    </tr>\n",
              "    <tr>\n",
              "      <th>4</th>\n",
              "      <td>PS103_51-1</td>\n",
              "      <td>-63.8924</td>\n",
              "      <td>-49.0801</td>\n",
              "      <td>8.9</td>\n",
              "      <td>9</td>\n",
              "      <td>0.0317</td>\n",
              "      <td>33.5495</td>\n",
              "      <td>33.713278</td>\n",
              "      <td>0.037552</td>\n",
              "    </tr>\n",
              "  </tbody>\n",
              "</table>\n",
              "</div>\n",
              "      <button class=\"colab-df-convert\" onclick=\"convertToInteractive('df-09040158-0eeb-4125-952c-681234506ea8')\"\n",
              "              title=\"Convert this dataframe to an interactive table.\"\n",
              "              style=\"display:none;\">\n",
              "        \n",
              "  <svg xmlns=\"http://www.w3.org/2000/svg\" height=\"24px\"viewBox=\"0 0 24 24\"\n",
              "       width=\"24px\">\n",
              "    <path d=\"M0 0h24v24H0V0z\" fill=\"none\"/>\n",
              "    <path d=\"M18.56 5.44l.94 2.06.94-2.06 2.06-.94-2.06-.94-.94-2.06-.94 2.06-2.06.94zm-11 1L8.5 8.5l.94-2.06 2.06-.94-2.06-.94L8.5 2.5l-.94 2.06-2.06.94zm10 10l.94 2.06.94-2.06 2.06-.94-2.06-.94-.94-2.06-.94 2.06-2.06.94z\"/><path d=\"M17.41 7.96l-1.37-1.37c-.4-.4-.92-.59-1.43-.59-.52 0-1.04.2-1.43.59L10.3 9.45l-7.72 7.72c-.78.78-.78 2.05 0 2.83L4 21.41c.39.39.9.59 1.41.59.51 0 1.02-.2 1.41-.59l7.78-7.78 2.81-2.81c.8-.78.8-2.07 0-2.86zM5.41 20L4 18.59l7.72-7.72 1.47 1.35L5.41 20z\"/>\n",
              "  </svg>\n",
              "      </button>\n",
              "      \n",
              "  <style>\n",
              "    .colab-df-container {\n",
              "      display:flex;\n",
              "      flex-wrap:wrap;\n",
              "      gap: 12px;\n",
              "    }\n",
              "\n",
              "    .colab-df-convert {\n",
              "      background-color: #E8F0FE;\n",
              "      border: none;\n",
              "      border-radius: 50%;\n",
              "      cursor: pointer;\n",
              "      display: none;\n",
              "      fill: #1967D2;\n",
              "      height: 32px;\n",
              "      padding: 0 0 0 0;\n",
              "      width: 32px;\n",
              "    }\n",
              "\n",
              "    .colab-df-convert:hover {\n",
              "      background-color: #E2EBFA;\n",
              "      box-shadow: 0px 1px 2px rgba(60, 64, 67, 0.3), 0px 1px 3px 1px rgba(60, 64, 67, 0.15);\n",
              "      fill: #174EA6;\n",
              "    }\n",
              "\n",
              "    [theme=dark] .colab-df-convert {\n",
              "      background-color: #3B4455;\n",
              "      fill: #D2E3FC;\n",
              "    }\n",
              "\n",
              "    [theme=dark] .colab-df-convert:hover {\n",
              "      background-color: #434B5C;\n",
              "      box-shadow: 0px 1px 3px 1px rgba(0, 0, 0, 0.15);\n",
              "      filter: drop-shadow(0px 1px 2px rgba(0, 0, 0, 0.3));\n",
              "      fill: #FFFFFF;\n",
              "    }\n",
              "  </style>\n",
              "\n",
              "      <script>\n",
              "        const buttonEl =\n",
              "          document.querySelector('#df-09040158-0eeb-4125-952c-681234506ea8 button.colab-df-convert');\n",
              "        buttonEl.style.display =\n",
              "          google.colab.kernel.accessAllowed ? 'block' : 'none';\n",
              "\n",
              "        async function convertToInteractive(key) {\n",
              "          const element = document.querySelector('#df-09040158-0eeb-4125-952c-681234506ea8');\n",
              "          const dataTable =\n",
              "            await google.colab.kernel.invokeFunction('convertToInteractive',\n",
              "                                                     [key], {});\n",
              "          if (!dataTable) return;\n",
              "\n",
              "          const docLinkHtml = 'Like what you see? Visit the ' +\n",
              "            '<a target=\"_blank\" href=https://colab.research.google.com/notebooks/data_table.ipynb>data table notebook</a>'\n",
              "            + ' to learn more about interactive tables.';\n",
              "          element.innerHTML = '';\n",
              "          dataTable['output_type'] = 'display_data';\n",
              "          await google.colab.output.renderOutput(dataTable, element);\n",
              "          const docLink = document.createElement('div');\n",
              "          docLink.innerHTML = docLinkHtml;\n",
              "          element.appendChild(docLink);\n",
              "        }\n",
              "      </script>\n",
              "    </div>\n",
              "  </div>\n",
              "  "
            ]
          },
          "metadata": {},
          "execution_count": 54
        }
      ],
      "source": [
        "profile[\"Absolute Salinity\"] = gsw.SA_from_SP(\n",
        "    SP=profile[\"Sal\"], p=profile[\"Press [dbar]\"], lon=profile[\"Longitude\"], lat=profile[\"Latitude\"]\n",
        ")\n",
        "profile[\"Conservative Temperature\"] = gsw.CT_from_t(\n",
        "    SA=profile[\"Absolute Salinity\"], t=profile[\"Temp [°C]\"], p=profile[\"Press [dbar]\"]\n",
        ")\n",
        "\n",
        "profile.head()"
      ]
    },
    {
      "cell_type": "markdown",
      "metadata": {
        "id": "ac53cb50"
      },
      "source": [
        "### Group data by event/profile name"
      ],
      "id": "ac53cb50"
    },
    {
      "cell_type": "code",
      "execution_count": null,
      "metadata": {
        "scrolled": true,
        "colab": {
          "base_uri": "https://localhost:8080/"
        },
        "id": "0dc09c90",
        "outputId": "34ae65f5-fb63-480a-9997-431bce603dbf"
      },
      "outputs": [
        {
          "output_type": "stream",
          "name": "stdout",
          "text": [
            "Number of Events/Casts = 51\n"
          ]
        }
      ],
      "source": [
        "grouped_data = data.groupby(\"Event\")\n",
        "events = grouped_data.groups.keys()\n",
        "print(f\"Number of Events/Casts = {len(events)}\")\n",
        "profile = grouped_data.get_group(\"PS103_51-1\").reset_index(drop = True)"
      ],
      "id": "0dc09c90"
    },
    {
      "cell_type": "markdown",
      "id": "85967363",
      "metadata": {
        "id": "85967363"
      },
      "source": [
        "### Calculate potential density $\\rho_{\\text{pot}}$ anomaly $\\sigma$"
      ]
    },
    {
      "cell_type": "markdown",
      "id": "e2898c9a",
      "metadata": {
        "id": "e2898c9a"
      },
      "source": [
        "The potential density $\\rho_{\\text{pot}}$ ????????????????????????????????????????????\n",
        "\n",
        "Density anomaly $\\sigma$ is then defined as $\\rho_{\\text{pot}} - 1000\\,\\text{kg/m}^3$."
      ]
    },
    {
      "cell_type": "markdown",
      "id": "7b99ff51",
      "metadata": {
        "id": "7b99ff51"
      },
      "source": [
        "The documentation to the following functions can be found [here]. The numbers $0$ to $4$ in the function calls or subscripts refer to the reference pressure, $0$ to $0$ bar, $1$ to $1000\\,$bar and so on. \n",
        "\n",
        "[here]: https://teos-10.github.io/GSW-Python/density.html"
      ]
    },
    {
      "cell_type": "code",
      "execution_count": null,
      "id": "c9ce8dd2",
      "metadata": {
        "colab": {
          "base_uri": "https://localhost:8080/",
          "height": 206
        },
        "id": "c9ce8dd2",
        "outputId": "86d8eb3d-12fd-4ca8-a6f3-f43444b4fe12"
      },
      "outputs": [
        {
          "output_type": "execute_result",
          "data": {
            "text/plain": [
              "        Event  Latitude  Longitude  Depth water [m]  Press [dbar]  Temp [°C]  \\\n",
              "0  PS103_51-1  -63.8924   -49.0801              5.0             5     0.0302   \n",
              "1  PS103_51-1  -63.8924   -49.0801              5.9             6     0.0291   \n",
              "2  PS103_51-1  -63.8924   -49.0801              6.9             7     0.0269   \n",
              "3  PS103_51-1  -63.8924   -49.0801              7.9             8     0.0294   \n",
              "4  PS103_51-1  -63.8924   -49.0801              8.9             9     0.0317   \n",
              "\n",
              "       Sal  Absolute Salinity  Conservative Temperature     Sigma0     Sigma1  \\\n",
              "0  33.5496          33.713413                  0.036182  26.940083  31.661310   \n",
              "1  33.5496          33.713404                  0.035048  26.940133  31.661394   \n",
              "2  33.5496          33.713395                  0.032813  26.940238  31.661567   \n",
              "3  33.5496          33.713387                  0.035282  26.940107  31.661361   \n",
              "4  33.5495          33.713278                  0.037552  26.939905  31.661092   \n",
              "\n",
              "      Sigma2     Sigma3     Sigma4  \n",
              "0  36.276373  40.786331  45.192533  \n",
              "1  36.276491  40.786481  45.192713  \n",
              "2  36.276729  40.786783  45.193076  \n",
              "3  36.276451  40.786435  45.192661  \n",
              "4  36.276117  40.786037  45.192202  "
            ],
            "text/html": [
              "\n",
              "  <div id=\"df-695c2c43-85c3-4d49-8db2-7859c481948c\">\n",
              "    <div class=\"colab-df-container\">\n",
              "      <div>\n",
              "<style scoped>\n",
              "    .dataframe tbody tr th:only-of-type {\n",
              "        vertical-align: middle;\n",
              "    }\n",
              "\n",
              "    .dataframe tbody tr th {\n",
              "        vertical-align: top;\n",
              "    }\n",
              "\n",
              "    .dataframe thead th {\n",
              "        text-align: right;\n",
              "    }\n",
              "</style>\n",
              "<table border=\"1\" class=\"dataframe\">\n",
              "  <thead>\n",
              "    <tr style=\"text-align: right;\">\n",
              "      <th></th>\n",
              "      <th>Event</th>\n",
              "      <th>Latitude</th>\n",
              "      <th>Longitude</th>\n",
              "      <th>Depth water [m]</th>\n",
              "      <th>Press [dbar]</th>\n",
              "      <th>Temp [°C]</th>\n",
              "      <th>Sal</th>\n",
              "      <th>Absolute Salinity</th>\n",
              "      <th>Conservative Temperature</th>\n",
              "      <th>Sigma0</th>\n",
              "      <th>Sigma1</th>\n",
              "      <th>Sigma2</th>\n",
              "      <th>Sigma3</th>\n",
              "      <th>Sigma4</th>\n",
              "    </tr>\n",
              "  </thead>\n",
              "  <tbody>\n",
              "    <tr>\n",
              "      <th>0</th>\n",
              "      <td>PS103_51-1</td>\n",
              "      <td>-63.8924</td>\n",
              "      <td>-49.0801</td>\n",
              "      <td>5.0</td>\n",
              "      <td>5</td>\n",
              "      <td>0.0302</td>\n",
              "      <td>33.5496</td>\n",
              "      <td>33.713413</td>\n",
              "      <td>0.036182</td>\n",
              "      <td>26.940083</td>\n",
              "      <td>31.661310</td>\n",
              "      <td>36.276373</td>\n",
              "      <td>40.786331</td>\n",
              "      <td>45.192533</td>\n",
              "    </tr>\n",
              "    <tr>\n",
              "      <th>1</th>\n",
              "      <td>PS103_51-1</td>\n",
              "      <td>-63.8924</td>\n",
              "      <td>-49.0801</td>\n",
              "      <td>5.9</td>\n",
              "      <td>6</td>\n",
              "      <td>0.0291</td>\n",
              "      <td>33.5496</td>\n",
              "      <td>33.713404</td>\n",
              "      <td>0.035048</td>\n",
              "      <td>26.940133</td>\n",
              "      <td>31.661394</td>\n",
              "      <td>36.276491</td>\n",
              "      <td>40.786481</td>\n",
              "      <td>45.192713</td>\n",
              "    </tr>\n",
              "    <tr>\n",
              "      <th>2</th>\n",
              "      <td>PS103_51-1</td>\n",
              "      <td>-63.8924</td>\n",
              "      <td>-49.0801</td>\n",
              "      <td>6.9</td>\n",
              "      <td>7</td>\n",
              "      <td>0.0269</td>\n",
              "      <td>33.5496</td>\n",
              "      <td>33.713395</td>\n",
              "      <td>0.032813</td>\n",
              "      <td>26.940238</td>\n",
              "      <td>31.661567</td>\n",
              "      <td>36.276729</td>\n",
              "      <td>40.786783</td>\n",
              "      <td>45.193076</td>\n",
              "    </tr>\n",
              "    <tr>\n",
              "      <th>3</th>\n",
              "      <td>PS103_51-1</td>\n",
              "      <td>-63.8924</td>\n",
              "      <td>-49.0801</td>\n",
              "      <td>7.9</td>\n",
              "      <td>8</td>\n",
              "      <td>0.0294</td>\n",
              "      <td>33.5496</td>\n",
              "      <td>33.713387</td>\n",
              "      <td>0.035282</td>\n",
              "      <td>26.940107</td>\n",
              "      <td>31.661361</td>\n",
              "      <td>36.276451</td>\n",
              "      <td>40.786435</td>\n",
              "      <td>45.192661</td>\n",
              "    </tr>\n",
              "    <tr>\n",
              "      <th>4</th>\n",
              "      <td>PS103_51-1</td>\n",
              "      <td>-63.8924</td>\n",
              "      <td>-49.0801</td>\n",
              "      <td>8.9</td>\n",
              "      <td>9</td>\n",
              "      <td>0.0317</td>\n",
              "      <td>33.5495</td>\n",
              "      <td>33.713278</td>\n",
              "      <td>0.037552</td>\n",
              "      <td>26.939905</td>\n",
              "      <td>31.661092</td>\n",
              "      <td>36.276117</td>\n",
              "      <td>40.786037</td>\n",
              "      <td>45.192202</td>\n",
              "    </tr>\n",
              "  </tbody>\n",
              "</table>\n",
              "</div>\n",
              "      <button class=\"colab-df-convert\" onclick=\"convertToInteractive('df-695c2c43-85c3-4d49-8db2-7859c481948c')\"\n",
              "              title=\"Convert this dataframe to an interactive table.\"\n",
              "              style=\"display:none;\">\n",
              "        \n",
              "  <svg xmlns=\"http://www.w3.org/2000/svg\" height=\"24px\"viewBox=\"0 0 24 24\"\n",
              "       width=\"24px\">\n",
              "    <path d=\"M0 0h24v24H0V0z\" fill=\"none\"/>\n",
              "    <path d=\"M18.56 5.44l.94 2.06.94-2.06 2.06-.94-2.06-.94-.94-2.06-.94 2.06-2.06.94zm-11 1L8.5 8.5l.94-2.06 2.06-.94-2.06-.94L8.5 2.5l-.94 2.06-2.06.94zm10 10l.94 2.06.94-2.06 2.06-.94-2.06-.94-.94-2.06-.94 2.06-2.06.94z\"/><path d=\"M17.41 7.96l-1.37-1.37c-.4-.4-.92-.59-1.43-.59-.52 0-1.04.2-1.43.59L10.3 9.45l-7.72 7.72c-.78.78-.78 2.05 0 2.83L4 21.41c.39.39.9.59 1.41.59.51 0 1.02-.2 1.41-.59l7.78-7.78 2.81-2.81c.8-.78.8-2.07 0-2.86zM5.41 20L4 18.59l7.72-7.72 1.47 1.35L5.41 20z\"/>\n",
              "  </svg>\n",
              "      </button>\n",
              "      \n",
              "  <style>\n",
              "    .colab-df-container {\n",
              "      display:flex;\n",
              "      flex-wrap:wrap;\n",
              "      gap: 12px;\n",
              "    }\n",
              "\n",
              "    .colab-df-convert {\n",
              "      background-color: #E8F0FE;\n",
              "      border: none;\n",
              "      border-radius: 50%;\n",
              "      cursor: pointer;\n",
              "      display: none;\n",
              "      fill: #1967D2;\n",
              "      height: 32px;\n",
              "      padding: 0 0 0 0;\n",
              "      width: 32px;\n",
              "    }\n",
              "\n",
              "    .colab-df-convert:hover {\n",
              "      background-color: #E2EBFA;\n",
              "      box-shadow: 0px 1px 2px rgba(60, 64, 67, 0.3), 0px 1px 3px 1px rgba(60, 64, 67, 0.15);\n",
              "      fill: #174EA6;\n",
              "    }\n",
              "\n",
              "    [theme=dark] .colab-df-convert {\n",
              "      background-color: #3B4455;\n",
              "      fill: #D2E3FC;\n",
              "    }\n",
              "\n",
              "    [theme=dark] .colab-df-convert:hover {\n",
              "      background-color: #434B5C;\n",
              "      box-shadow: 0px 1px 3px 1px rgba(0, 0, 0, 0.15);\n",
              "      filter: drop-shadow(0px 1px 2px rgba(0, 0, 0, 0.3));\n",
              "      fill: #FFFFFF;\n",
              "    }\n",
              "  </style>\n",
              "\n",
              "      <script>\n",
              "        const buttonEl =\n",
              "          document.querySelector('#df-695c2c43-85c3-4d49-8db2-7859c481948c button.colab-df-convert');\n",
              "        buttonEl.style.display =\n",
              "          google.colab.kernel.accessAllowed ? 'block' : 'none';\n",
              "\n",
              "        async function convertToInteractive(key) {\n",
              "          const element = document.querySelector('#df-695c2c43-85c3-4d49-8db2-7859c481948c');\n",
              "          const dataTable =\n",
              "            await google.colab.kernel.invokeFunction('convertToInteractive',\n",
              "                                                     [key], {});\n",
              "          if (!dataTable) return;\n",
              "\n",
              "          const docLinkHtml = 'Like what you see? Visit the ' +\n",
              "            '<a target=\"_blank\" href=https://colab.research.google.com/notebooks/data_table.ipynb>data table notebook</a>'\n",
              "            + ' to learn more about interactive tables.';\n",
              "          element.innerHTML = '';\n",
              "          dataTable['output_type'] = 'display_data';\n",
              "          await google.colab.output.renderOutput(dataTable, element);\n",
              "          const docLink = document.createElement('div');\n",
              "          docLink.innerHTML = docLinkHtml;\n",
              "          element.appendChild(docLink);\n",
              "        }\n",
              "      </script>\n",
              "    </div>\n",
              "  </div>\n",
              "  "
            ]
          },
          "metadata": {},
          "execution_count": 55
        }
      ],
      "source": [
        "profile[\"Sigma0\"] = gsw.density.sigma0(SA=profile[\"Absolute Salinity\"], CT=profile[\"Conservative Temperature\"])\n",
        "profile[\"Sigma1\"] = gsw.density.sigma1(SA=profile[\"Absolute Salinity\"], CT=profile[\"Conservative Temperature\"])\n",
        "profile[\"Sigma2\"] = gsw.density.sigma2(SA=profile[\"Absolute Salinity\"], CT=profile[\"Conservative Temperature\"])\n",
        "profile[\"Sigma3\"] = gsw.density.sigma3(SA=profile[\"Absolute Salinity\"], CT=profile[\"Conservative Temperature\"])\n",
        "profile[\"Sigma4\"] = gsw.density.sigma4(SA=profile[\"Absolute Salinity\"], CT=profile[\"Conservative Temperature\"])\n",
        "profile.head()"
      ]
    },
    {
      "cell_type": "markdown",
      "source": [
        "## Plotting single profiles"
      ],
      "metadata": {
        "id": "lZdoJRpzIjf9"
      },
      "id": "lZdoJRpzIjf9"
    },
    {
      "cell_type": "code",
      "execution_count": null,
      "id": "0cef9131",
      "metadata": {
        "colab": {
          "base_uri": "https://localhost:8080/",
          "height": 522
        },
        "id": "0cef9131",
        "outputId": "2438a7ef-acd5-45ea-8fac-5171f9e770c4"
      },
      "outputs": [
        {
          "output_type": "display_data",
          "data": {
            "text/plain": [
              "<Figure size 800x600 with 1 Axes>"
            ],
            "image/png": "[encoded data removed]"
          },
          "metadata": {}
        }
      ],
      "source": [
        "f, ax = plt.subplots()\n",
        "for i in range(5):\n",
        "    ax.plot(profile[f\"Sigma{i}\"], profile[\"Depth water [m]\"], label = f\"$\\sigma_{i}$\")\n",
        "ax.legend()\n",
        "ax.invert_yaxis()"
      ]
    },
    {
      "cell_type": "markdown",
      "id": "c76327fc",
      "metadata": {
        "id": "c76327fc"
      },
      "source": [
        "We see, choosing the reference pressure definitely changes the mean density of each new profile.\n",
        "\n",
        "But if we lay all the potential density anomaly profiles on top of each other, we see also differences in the profile shape."
      ]
    },
    {
      "cell_type": "code",
      "execution_count": null,
      "id": "81e41b41",
      "metadata": {
        "scrolled": false,
        "colab": {
          "base_uri": "https://localhost:8080/",
          "height": 607
        },
        "id": "81e41b41",
        "outputId": "e37c5c75-5ca8-4853-e4b4-42b724763873"
      },
      "outputs": [
        {
          "output_type": "display_data",
          "data": {
            "text/plain": [
              "<Figure size 1600x600 with 2 Axes>"
            ],
            "image/png": "[encoded data removed]"
          },
          "metadata": {}
        }
      ],
      "source": [
        "f, axis = plt.subplots(ncols = 2, sharey = True, figsize=(16, 6))\n",
        "for ax in axis:\n",
        "    for i in range(5):\n",
        "        ax.plot(\n",
        "            profile[f\"Sigma{i}\"]-profile[f\"Sigma{i}\"].iloc[0], \n",
        "            profile[\"Depth water [m]\"], \n",
        "            label = f\"$\\sigma_{i}$\",\n",
        "            )\n",
        "    ax.legend(loc = \"lower left\")\n",
        "axis[1].set_xlim(0.68,1.1)\n",
        "axis[0].invert_yaxis()\n",
        "for ax in axis:\n",
        "    ax.set_xlabel(\"arbitrary density unit\")\n",
        "axis[0].set_ylabel(\"Depth ($m$)\")\n",
        "f.tight_layout()"
      ]
    },
    {
      "cell_type": "markdown",
      "id": "6b8ef7be",
      "metadata": {
        "id": "6b8ef7be"
      },
      "source": [
        "DESCRIPTION ???????????????????????????????????????"
      ]
    },
    {
      "cell_type": "markdown",
      "source": [
        "## Plot map of the CTD profiles"
      ],
      "metadata": {
        "id": "xktZNiPzHjlV"
      },
      "id": "xktZNiPzHjlV"
    },
    {
      "cell_type": "code",
      "source": [],
      "metadata": {
        "id": "Hv0eB-OTH1U-"
      },
      "id": "Hv0eB-OTH1U-",
      "execution_count": null,
      "outputs": []
    },
    {
      "cell_type": "code",
      "source": [],
      "metadata": {
        "id": "Slxg-HINH1Bu"
      },
      "id": "Slxg-HINH1Bu",
      "execution_count": null,
      "outputs": []
    },
    {
      "cell_type": "code",
      "source": [],
      "metadata": {
        "id": "LL9AQrzhH0x2"
      },
      "id": "LL9AQrzhH0x2",
      "execution_count": null,
      "outputs": []
    },
    {
      "cell_type": "markdown",
      "source": [
        "## Plot transect from a subset of CTD profiles"
      ],
      "metadata": {
        "id": "x1XXvcyvJN8c"
      },
      "id": "x1XXvcyvJN8c"
    }
  ],
  "metadata": {
    "kernelspec": {
      "display_name": "Python 3",
      "language": "python",
      "name": "python3"
    },
    "language_info": {
      "codemirror_mode": {
        "name": "ipython",
        "version": 3
      },
      "file_extension": ".py",
      "mimetype": "text/x-python",
      "name": "python",
      "nbconvert_exporter": "python",
      "pygments_lexer": "ipython3",
      "version": "3.8.8"
    },
    "colab": {
      "provenance": [],
      "include_colab_link": true
    }
  },
  "nbformat": 4,
  "nbformat_minor": 5
}